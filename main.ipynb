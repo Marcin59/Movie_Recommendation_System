{
 "cells": [
  {
   "cell_type": "code",
   "execution_count": 1,
   "metadata": {},
   "outputs": [],
   "source": [
    "%load_ext autoreload\n",
    "%autoreload 2"
   ]
  },
  {
   "cell_type": "code",
   "execution_count": 2,
   "metadata": {},
   "outputs": [],
   "source": [
    "import pandas as pd\n",
    "from sklearn.model_selection import train_test_split\n",
    "from model import Model\n",
    "from tqdm import tqdm"
   ]
  },
  {
   "cell_type": "code",
   "execution_count": 3,
   "metadata": {},
   "outputs": [],
   "source": [
    "ENV = \"Test\""
   ]
  },
  {
   "cell_type": "code",
   "execution_count": 4,
   "metadata": {},
   "outputs": [],
   "source": [
    "if ENV == \"Test\":\n",
    "    folder_path = \"./data/test\"\n",
    "    users_file_name = \"./data/usersTest.csv\"\n",
    "else:\n",
    "    folder_path = \"./data\"\n",
    "    users_file_name = f\"./data/users{ENV}.csv\"\n",
    "movies = pd.read_csv(f'{folder_path}/movies.csv')\n",
    "ratings = pd.read_csv(f'{folder_path}/ratings.csv')"
   ]
  },
  {
   "cell_type": "code",
   "execution_count": 5,
   "metadata": {},
   "outputs": [],
   "source": [
    "train_ratings, test_ratings = train_test_split(ratings, test_size=0.001, shuffle=True, random_state=42)"
   ]
  },
  {
   "cell_type": "code",
   "execution_count": 6,
   "metadata": {},
   "outputs": [],
   "source": [
    "import warnings\n",
    "warnings.filterwarnings('ignore')"
   ]
  },
  {
   "cell_type": "code",
   "execution_count": 7,
   "metadata": {},
   "outputs": [
    {
     "name": "stdout",
     "output_type": "stream",
     "text": [
      "Fitting model...\n",
      "Selecting relevant genres...\n",
      "Selected genres: ['Drama', 'Comedy', 'Thriller', 'Romance', 'Action', 'Documentary', 'Horror', '(no genres listed)', 'Crime', 'Adventure', 'Sci-Fi', 'Animation', 'Children', 'Mystery', 'Fantasy'] selected at 0.002215421199798584 minute.\n",
      "Preprocessing users...\n",
      "Preprocessing users |██████████████████████████████████████████████████| 100.0% Complete\n",
      "Preprocessed users at 1.6127036293347676 minute.\n",
      "Model fitted at 1.8846269885698954 minute.\n"
     ]
    }
   ],
   "source": [
    "model = Model(train_ratings, preprocessed_users_file_name=users_file_name, log=True)\n",
    "model.fit(movies.copy(), update_users=True)"
   ]
  },
  {
   "cell_type": "code",
   "execution_count": 8,
   "metadata": {},
   "outputs": [],
   "source": [
    "# model.getBaseline(test_ratings)\n",
    "# print(\"Baseline MSE: \", model.getBaseline(test_ratings))"
   ]
  },
  {
   "cell_type": "code",
   "execution_count": 9,
   "metadata": {},
   "outputs": [
    {
     "name": "stderr",
     "output_type": "stream",
     "text": [
      "100%|██████████| 33833/33833 [00:33<00:00, 1017.30it/s]"
     ]
    },
    {
     "name": "stdout",
     "output_type": "stream",
     "text": [
      "k = 15, MSE = 0.7775782203514175\n"
     ]
    },
    {
     "name": "stderr",
     "output_type": "stream",
     "text": [
      "\n"
     ]
    }
   ],
   "source": [
    "k = 15\n",
    "model = Model(train_ratings, k)\n",
    "model.fit(movies.copy())\n",
    "mse = model.getMSE(test_ratings)\n",
    "print(f\"k = {k}, MSE = {mse}\")"
   ]
  },
  {
   "cell_type": "code",
   "execution_count": 10,
   "metadata": {},
   "outputs": [
    {
     "name": "stderr",
     "output_type": "stream",
     "text": [
      "100%|██████████| 33833/33833 [00:28<00:00, 1176.23it/s]\n"
     ]
    },
    {
     "name": "stdout",
     "output_type": "stream",
     "text": [
      "k = 1, MSE = 0.9321069215739255\n"
     ]
    },
    {
     "name": "stderr",
     "output_type": "stream",
     "text": [
      "100%|██████████| 33833/33833 [00:29<00:00, 1127.78it/s]\n"
     ]
    },
    {
     "name": "stdout",
     "output_type": "stream",
     "text": [
      "k = 2, MSE = 0.8371629848594581\n"
     ]
    },
    {
     "name": "stderr",
     "output_type": "stream",
     "text": [
      "100%|██████████| 33833/33833 [00:31<00:00, 1088.21it/s]\n"
     ]
    },
    {
     "name": "stdout",
     "output_type": "stream",
     "text": [
      "k = 3, MSE = 0.8025835376231841\n"
     ]
    },
    {
     "name": "stderr",
     "output_type": "stream",
     "text": [
      "100%|██████████| 33833/33833 [00:31<00:00, 1074.81it/s]\n"
     ]
    },
    {
     "name": "stdout",
     "output_type": "stream",
     "text": [
      "k = 4, MSE = 0.7903780733355034\n"
     ]
    },
    {
     "name": "stderr",
     "output_type": "stream",
     "text": [
      "100%|██████████| 33833/33833 [00:31<00:00, 1077.39it/s]\n"
     ]
    },
    {
     "name": "stdout",
     "output_type": "stream",
     "text": [
      "k = 5, MSE = 0.7906382095574671\n"
     ]
    },
    {
     "name": "stderr",
     "output_type": "stream",
     "text": [
      "100%|██████████| 33833/33833 [00:32<00:00, 1054.33it/s]\n"
     ]
    },
    {
     "name": "stdout",
     "output_type": "stream",
     "text": [
      "k = 6, MSE = 0.7821129765201302\n"
     ]
    },
    {
     "name": "stderr",
     "output_type": "stream",
     "text": [
      "100%|██████████| 33833/33833 [00:31<00:00, 1075.80it/s]\n"
     ]
    },
    {
     "name": "stdout",
     "output_type": "stream",
     "text": [
      "k = 7, MSE = 0.7823628828419495\n"
     ]
    },
    {
     "name": "stderr",
     "output_type": "stream",
     "text": [
      "100%|██████████| 33833/33833 [00:32<00:00, 1046.55it/s]\n"
     ]
    },
    {
     "name": "stdout",
     "output_type": "stream",
     "text": [
      "k = 8, MSE = 0.7832096716992843\n"
     ]
    },
    {
     "name": "stderr",
     "output_type": "stream",
     "text": [
      "100%|██████████| 33833/33833 [00:33<00:00, 1021.29it/s]\n"
     ]
    },
    {
     "name": "stdout",
     "output_type": "stream",
     "text": [
      "k = 9, MSE = 0.7832834415202876\n"
     ]
    },
    {
     "name": "stderr",
     "output_type": "stream",
     "text": [
      "100%|██████████| 33833/33833 [00:31<00:00, 1069.57it/s]\n"
     ]
    },
    {
     "name": "stdout",
     "output_type": "stream",
     "text": [
      "k = 10, MSE = 0.7757748289315364\n"
     ]
    },
    {
     "name": "stderr",
     "output_type": "stream",
     "text": [
      "100%|██████████| 33833/33833 [00:32<00:00, 1049.24it/s]\n"
     ]
    },
    {
     "name": "stdout",
     "output_type": "stream",
     "text": [
      "k = 11, MSE = 0.7762440457621737\n"
     ]
    },
    {
     "name": "stderr",
     "output_type": "stream",
     "text": [
      "100%|██████████| 33833/33833 [00:32<00:00, 1046.90it/s]\n"
     ]
    },
    {
     "name": "stdout",
     "output_type": "stream",
     "text": [
      "k = 12, MSE = 0.7754730180062476\n"
     ]
    },
    {
     "name": "stderr",
     "output_type": "stream",
     "text": [
      "100%|██████████| 33833/33833 [00:30<00:00, 1100.06it/s]\n"
     ]
    },
    {
     "name": "stdout",
     "output_type": "stream",
     "text": [
      "k = 13, MSE = 0.7745612216144013\n"
     ]
    },
    {
     "name": "stderr",
     "output_type": "stream",
     "text": [
      "100%|██████████| 33833/33833 [00:30<00:00, 1104.23it/s]\n"
     ]
    },
    {
     "name": "stdout",
     "output_type": "stream",
     "text": [
      "k = 14, MSE = 0.7743185660909105\n"
     ]
    },
    {
     "name": "stderr",
     "output_type": "stream",
     "text": [
      "100%|██████████| 33833/33833 [00:33<00:00, 1024.72it/s]\n"
     ]
    },
    {
     "name": "stdout",
     "output_type": "stream",
     "text": [
      "k = 15, MSE = 0.7757194986381356\n"
     ]
    },
    {
     "name": "stderr",
     "output_type": "stream",
     "text": [
      "100%|██████████| 33833/33833 [00:32<00:00, 1037.11it/s]\n"
     ]
    },
    {
     "name": "stdout",
     "output_type": "stream",
     "text": [
      "k = 16, MSE = 0.7695814182599895\n"
     ]
    },
    {
     "name": "stderr",
     "output_type": "stream",
     "text": [
      "100%|██████████| 33833/33833 [00:31<00:00, 1059.96it/s]\n"
     ]
    },
    {
     "name": "stdout",
     "output_type": "stream",
     "text": [
      "k = 17, MSE = 0.7705243296858373\n"
     ]
    },
    {
     "name": "stderr",
     "output_type": "stream",
     "text": [
      "100%|██████████| 33833/33833 [00:31<00:00, 1062.99it/s]\n"
     ]
    },
    {
     "name": "stdout",
     "output_type": "stream",
     "text": [
      "k = 18, MSE = 0.7704229037805828\n"
     ]
    },
    {
     "name": "stderr",
     "output_type": "stream",
     "text": [
      "100%|██████████| 33833/33833 [00:33<00:00, 1018.99it/s]\n"
     ]
    },
    {
     "name": "stdout",
     "output_type": "stream",
     "text": [
      "k = 19, MSE = 0.7731756015964022\n"
     ]
    },
    {
     "name": "stderr",
     "output_type": "stream",
     "text": [
      "100%|██████████| 33833/33833 [00:34<00:00, 980.50it/s] \n"
     ]
    },
    {
     "name": "stdout",
     "output_type": "stream",
     "text": [
      "k = 20, MSE = 0.7729338613468573\n"
     ]
    },
    {
     "name": "stderr",
     "output_type": "stream",
     "text": [
      "100%|██████████| 33833/33833 [00:32<00:00, 1032.17it/s]\n"
     ]
    },
    {
     "name": "stdout",
     "output_type": "stream",
     "text": [
      "k = 21, MSE = 0.7775021475928235\n"
     ]
    },
    {
     "name": "stderr",
     "output_type": "stream",
     "text": [
      "100%|██████████| 33833/33833 [00:31<00:00, 1064.42it/s]\n"
     ]
    },
    {
     "name": "stdout",
     "output_type": "stream",
     "text": [
      "k = 22, MSE = 0.7707852031368647\n"
     ]
    },
    {
     "name": "stderr",
     "output_type": "stream",
     "text": [
      "100%|██████████| 33833/33833 [00:31<00:00, 1066.24it/s]\n"
     ]
    },
    {
     "name": "stdout",
     "output_type": "stream",
     "text": [
      "k = 23, MSE = 0.7749316306016016\n"
     ]
    },
    {
     "name": "stderr",
     "output_type": "stream",
     "text": [
      "100%|██████████| 33833/33833 [00:32<00:00, 1042.58it/s]\n"
     ]
    },
    {
     "name": "stdout",
     "output_type": "stream",
     "text": [
      "k = 24, MSE = 0.7760333670640446\n"
     ]
    },
    {
     "name": "stderr",
     "output_type": "stream",
     "text": [
      "100%|██████████| 33833/33833 [00:32<00:00, 1054.33it/s]\n"
     ]
    },
    {
     "name": "stdout",
     "output_type": "stream",
     "text": [
      "k = 25, MSE = 0.7740721907455145\n"
     ]
    },
    {
     "name": "stderr",
     "output_type": "stream",
     "text": [
      "100%|██████████| 33833/33833 [00:32<00:00, 1041.92it/s]\n"
     ]
    },
    {
     "name": "stdout",
     "output_type": "stream",
     "text": [
      "k = 26, MSE = 0.7773738271300266\n"
     ]
    },
    {
     "name": "stderr",
     "output_type": "stream",
     "text": [
      "100%|██████████| 33833/33833 [00:32<00:00, 1034.85it/s]\n"
     ]
    },
    {
     "name": "stdout",
     "output_type": "stream",
     "text": [
      "k = 27, MSE = 0.7764940561098982\n"
     ]
    },
    {
     "name": "stderr",
     "output_type": "stream",
     "text": [
      "100%|██████████| 33833/33833 [00:32<00:00, 1037.47it/s]\n"
     ]
    },
    {
     "name": "stdout",
     "output_type": "stream",
     "text": [
      "k = 28, MSE = 0.776692447225806\n"
     ]
    },
    {
     "name": "stderr",
     "output_type": "stream",
     "text": [
      "100%|██████████| 33833/33833 [00:32<00:00, 1041.70it/s]\n"
     ]
    },
    {
     "name": "stdout",
     "output_type": "stream",
     "text": [
      "k = 29, MSE = 0.7767049521539852\n"
     ]
    },
    {
     "name": "stderr",
     "output_type": "stream",
     "text": [
      "100%|██████████| 33833/33833 [00:35<00:00, 956.35it/s] \n"
     ]
    },
    {
     "name": "stdout",
     "output_type": "stream",
     "text": [
      "k = 30, MSE = 0.7781031701798065\n"
     ]
    },
    {
     "name": "stderr",
     "output_type": "stream",
     "text": [
      "100%|██████████| 33833/33833 [00:35<00:00, 951.61it/s] \n"
     ]
    },
    {
     "name": "stdout",
     "output_type": "stream",
     "text": [
      "k = 31, MSE = 0.7775813906607328\n"
     ]
    },
    {
     "name": "stderr",
     "output_type": "stream",
     "text": [
      "100%|██████████| 33833/33833 [00:35<00:00, 955.09it/s] \n"
     ]
    },
    {
     "name": "stdout",
     "output_type": "stream",
     "text": [
      "k = 32, MSE = 0.7780165817117516\n"
     ]
    },
    {
     "name": "stderr",
     "output_type": "stream",
     "text": [
      "100%|██████████| 33833/33833 [00:41<00:00, 815.98it/s] \n"
     ]
    },
    {
     "name": "stdout",
     "output_type": "stream",
     "text": [
      "k = 33, MSE = 0.7796661561064065\n"
     ]
    },
    {
     "name": "stderr",
     "output_type": "stream",
     "text": [
      "100%|██████████| 33833/33833 [00:36<00:00, 931.69it/s] \n"
     ]
    },
    {
     "name": "stdout",
     "output_type": "stream",
     "text": [
      "k = 34, MSE = 0.7755776689988598\n"
     ]
    },
    {
     "name": "stderr",
     "output_type": "stream",
     "text": [
      "100%|██████████| 33833/33833 [00:34<00:00, 988.23it/s] \n"
     ]
    },
    {
     "name": "stdout",
     "output_type": "stream",
     "text": [
      "k = 35, MSE = 0.7785681815669082\n"
     ]
    },
    {
     "name": "stderr",
     "output_type": "stream",
     "text": [
      "100%|██████████| 33833/33833 [00:34<00:00, 970.01it/s] \n"
     ]
    },
    {
     "name": "stdout",
     "output_type": "stream",
     "text": [
      "k = 36, MSE = 0.7752637388104608\n"
     ]
    },
    {
     "name": "stderr",
     "output_type": "stream",
     "text": [
      "100%|██████████| 33833/33833 [00:35<00:00, 952.49it/s] \n"
     ]
    },
    {
     "name": "stdout",
     "output_type": "stream",
     "text": [
      "k = 37, MSE = 0.774647465433834\n"
     ]
    },
    {
     "name": "stderr",
     "output_type": "stream",
     "text": [
      "100%|██████████| 33833/33833 [00:33<00:00, 999.78it/s] \n"
     ]
    },
    {
     "name": "stdout",
     "output_type": "stream",
     "text": [
      "k = 38, MSE = 0.7807588619294686\n"
     ]
    },
    {
     "name": "stderr",
     "output_type": "stream",
     "text": [
      "100%|██████████| 33833/33833 [00:35<00:00, 955.00it/s] \n"
     ]
    },
    {
     "name": "stdout",
     "output_type": "stream",
     "text": [
      "k = 39, MSE = 0.7712820457391908\n"
     ]
    },
    {
     "name": "stderr",
     "output_type": "stream",
     "text": [
      "100%|██████████| 33833/33833 [00:33<00:00, 1018.81it/s]\n"
     ]
    },
    {
     "name": "stdout",
     "output_type": "stream",
     "text": [
      "k = 40, MSE = 0.7787653636323051\n"
     ]
    },
    {
     "name": "stderr",
     "output_type": "stream",
     "text": [
      "100%|██████████| 33833/33833 [00:33<00:00, 1001.92it/s]\n"
     ]
    },
    {
     "name": "stdout",
     "output_type": "stream",
     "text": [
      "k = 41, MSE = 0.7782135672098376\n"
     ]
    },
    {
     "name": "stderr",
     "output_type": "stream",
     "text": [
      "100%|██████████| 33833/33833 [00:33<00:00, 1015.04it/s]\n"
     ]
    },
    {
     "name": "stdout",
     "output_type": "stream",
     "text": [
      "k = 42, MSE = 0.7778399184050261\n"
     ]
    },
    {
     "name": "stderr",
     "output_type": "stream",
     "text": [
      "100%|██████████| 33833/33833 [00:35<00:00, 946.62it/s] \n"
     ]
    },
    {
     "name": "stdout",
     "output_type": "stream",
     "text": [
      "k = 43, MSE = 0.7783300445124574\n"
     ]
    },
    {
     "name": "stderr",
     "output_type": "stream",
     "text": [
      "100%|██████████| 33833/33833 [00:34<00:00, 977.38it/s] \n"
     ]
    },
    {
     "name": "stdout",
     "output_type": "stream",
     "text": [
      "k = 44, MSE = 0.7751927691336274\n"
     ]
    },
    {
     "name": "stderr",
     "output_type": "stream",
     "text": [
      "100%|██████████| 33833/33833 [00:34<00:00, 979.07it/s] \n"
     ]
    },
    {
     "name": "stdout",
     "output_type": "stream",
     "text": [
      "k = 45, MSE = 0.778644168121796\n"
     ]
    },
    {
     "name": "stderr",
     "output_type": "stream",
     "text": [
      "100%|██████████| 33833/33833 [00:32<00:00, 1044.88it/s]\n"
     ]
    },
    {
     "name": "stdout",
     "output_type": "stream",
     "text": [
      "k = 46, MSE = 0.7781884991741685\n"
     ]
    },
    {
     "name": "stderr",
     "output_type": "stream",
     "text": [
      "100%|██████████| 33833/33833 [00:34<00:00, 993.78it/s] \n"
     ]
    },
    {
     "name": "stdout",
     "output_type": "stream",
     "text": [
      "k = 47, MSE = 0.77508669099984\n"
     ]
    },
    {
     "name": "stderr",
     "output_type": "stream",
     "text": [
      "100%|██████████| 33833/33833 [00:32<00:00, 1044.20it/s]\n"
     ]
    },
    {
     "name": "stdout",
     "output_type": "stream",
     "text": [
      "k = 48, MSE = 0.7804673387704196\n"
     ]
    },
    {
     "name": "stderr",
     "output_type": "stream",
     "text": [
      "100%|██████████| 33833/33833 [00:37<00:00, 891.92it/s] "
     ]
    },
    {
     "name": "stdout",
     "output_type": "stream",
     "text": [
      "k = 49, MSE = 0.7791681046110596\n"
     ]
    },
    {
     "name": "stderr",
     "output_type": "stream",
     "text": [
      "\n"
     ]
    }
   ],
   "source": [
    "errors = {}\n",
    "for k in range(1, 50):\n",
    "    model = Model(train_ratings, k)\n",
    "    model.fit(movies.copy())\n",
    "    mse = model.getMSE(test_ratings)\n",
    "    errors[k] = mse\n",
    "    print(f\"k = {k}, MSE = {mse}\")"
   ]
  },
  {
   "cell_type": "code",
   "execution_count": 11,
   "metadata": {},
   "outputs": [
    {
     "data": {
      "text/plain": [
       "[(1, 0.9321069215739255),\n",
       " (2, 0.8371629848594581),\n",
       " (3, 0.8025835376231841),\n",
       " (4, 0.7903780733355034),\n",
       " (5, 0.7906382095574671),\n",
       " (6, 0.7821129765201302),\n",
       " (7, 0.7823628828419495),\n",
       " (8, 0.7832096716992843),\n",
       " (9, 0.7832834415202876),\n",
       " (10, 0.7757748289315364),\n",
       " (11, 0.7762440457621737),\n",
       " (12, 0.7754730180062476),\n",
       " (13, 0.7745612216144013),\n",
       " (14, 0.7743185660909105),\n",
       " (15, 0.7757194986381356),\n",
       " (16, 0.7695814182599895),\n",
       " (17, 0.7705243296858373),\n",
       " (18, 0.7704229037805828),\n",
       " (19, 0.7731756015964022),\n",
       " (20, 0.7729338613468573),\n",
       " (21, 0.7775021475928235),\n",
       " (22, 0.7707852031368647),\n",
       " (23, 0.7749316306016016),\n",
       " (24, 0.7760333670640446),\n",
       " (25, 0.7740721907455145),\n",
       " (26, 0.7773738271300266),\n",
       " (27, 0.7764940561098982),\n",
       " (28, 0.776692447225806),\n",
       " (29, 0.7767049521539852),\n",
       " (30, 0.7781031701798065),\n",
       " (31, 0.7775813906607328),\n",
       " (32, 0.7780165817117516),\n",
       " (33, 0.7796661561064065),\n",
       " (34, 0.7755776689988598),\n",
       " (35, 0.7785681815669082),\n",
       " (36, 0.7752637388104608),\n",
       " (37, 0.774647465433834),\n",
       " (38, 0.7807588619294686),\n",
       " (39, 0.7712820457391908),\n",
       " (40, 0.7787653636323051),\n",
       " (41, 0.7782135672098376),\n",
       " (42, 0.7778399184050261),\n",
       " (43, 0.7783300445124574),\n",
       " (44, 0.7751927691336274),\n",
       " (45, 0.778644168121796),\n",
       " (46, 0.7781884991741685),\n",
       " (47, 0.77508669099984),\n",
       " (48, 0.7804673387704196),\n",
       " (49, 0.7791681046110596)]"
      ]
     },
     "execution_count": 11,
     "metadata": {},
     "output_type": "execute_result"
    }
   ],
   "source": [
    "list(errors.items())"
   ]
  },
  {
   "cell_type": "code",
   "execution_count": 12,
   "metadata": {},
   "outputs": [
    {
     "data": {
      "text/plain": [
       "[<matplotlib.lines.Line2D at 0x19408974dc0>]"
      ]
     },
     "execution_count": 12,
     "metadata": {},
     "output_type": "execute_result"
    },
    {
     "data": {
      "image/png": "[encoded data removed]",
      "text/plain": [
       "<Figure size 640x480 with 1 Axes>"
      ]
     },
     "metadata": {},
     "output_type": "display_data"
    }
   ],
   "source": [
    "import matplotlib.pyplot as plt\n",
    "\n",
    "plt.plot(errors.keys(), errors.values())"
   ]
  },
  {
   "cell_type": "code",
   "execution_count": 13,
   "metadata": {},
   "outputs": [],
   "source": [
    "model.save_users(f\"Clustering{ENV}Users{k}.csv\")"
   ]
  }
 ],
 "metadata": {
  "kernelspec": {
   "display_name": "DataMining",
   "language": "python",
   "name": "python3"
  },
  "language_info": {
   "codemirror_mode": {
    "name": "ipython",
    "version": 3
   },
   "file_extension": ".py",
   "mimetype": "text/x-python",
   "name": "python",
   "nbconvert_exporter": "python",
   "pygments_lexer": "ipython3",
   "version": "3.10.14"
  }
 },
 "nbformat": 4,
 "nbformat_minor": 2
}
