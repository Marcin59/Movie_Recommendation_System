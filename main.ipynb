{
 "cells": [
  {
   "cell_type": "code",
   "execution_count": 59,
   "metadata": {},
   "outputs": [
    {
     "name": "stdout",
     "output_type": "stream",
     "text": [
      "The autoreload extension is already loaded. To reload it, use:\n",
      "  %reload_ext autoreload\n"
     ]
    }
   ],
   "source": [
    "%load_ext autoreload\n",
    "%autoreload 2"
   ]
  },
  {
   "cell_type": "code",
   "execution_count": 60,
   "metadata": {},
   "outputs": [],
   "source": [
    "import pandas as pd\n",
    "from sklearn.model_selection import train_test_split\n",
    "from model import Model\n",
    "from tqdm import tqdm"
   ]
  },
  {
   "cell_type": "code",
   "execution_count": 61,
   "metadata": {},
   "outputs": [],
   "source": [
    "ENV = \"Test\""
   ]
  },
  {
   "cell_type": "code",
   "execution_count": 62,
   "metadata": {},
   "outputs": [],
   "source": [
    "if ENV == \"Test\":\n",
    "    folder_path = \"./data/test\"\n",
    "    users_file_name = \"./data/usersTest.csv\"\n",
    "else:\n",
    "    folder_path = \"./data\"\n",
    "    users_file_name = f\"./data/users{ENV}.csv\"\n",
    "movies = pd.read_csv(f'{folder_path}/movies.csv')\n",
    "ratings = pd.read_csv(f'{folder_path}/ratings.csv')"
   ]
  },
  {
   "cell_type": "code",
   "execution_count": 63,
   "metadata": {},
   "outputs": [],
   "source": [
    "train_ratings, test_ratings = train_test_split(ratings, test_size=0.001, shuffle=True, random_state=42)"
   ]
  },
  {
   "cell_type": "code",
   "execution_count": 64,
   "metadata": {},
   "outputs": [],
   "source": [
    "import warnings\n",
    "warnings.filterwarnings('ignore')"
   ]
  },
  {
   "cell_type": "code",
   "execution_count": 65,
   "metadata": {},
   "outputs": [
    {
     "name": "stdout",
     "output_type": "stream",
     "text": [
      "Fitting model...\n",
      "Selecting relevant genres...\n",
      "Selected genres: ['Drama', 'Comedy', 'Thriller', 'Romance', 'Action', 'Documentary', 'Horror', '(no genres listed)', 'Crime', 'Adventure', 'Sci-Fi', 'Animation', 'Children', 'Mystery', 'Fantasy'] selected at 0.0006262779235839844 minute.\n",
      "Preprocessing users...\n",
      "Preprocessing users |██████████████████████████████████████████████████| 100.0% Complete\n",
      "Preprocessed users at 0.9927994211514791 minute.\n",
      "Model fitted at 1.131024471918742 minute.\n"
     ]
    }
   ],
   "source": [
    "model = Model(train_ratings, preprocessed_users_file_name=users_file_name, log=True)\n",
    "model.fit(movies.copy(), update_users=True)"
   ]
  },
  {
   "cell_type": "code",
   "execution_count": 66,
   "metadata": {},
   "outputs": [],
   "source": [
    "# model.getBaseline(test_ratings)\n",
    "# print(\"Baseline MSE: \", model.getBaseline(test_ratings))"
   ]
  },
  {
   "cell_type": "code",
   "execution_count": 68,
   "metadata": {},
   "outputs": [
    {
     "name": "stderr",
     "output_type": "stream",
     "text": [
      "100%|██████████| 33833/33833 [00:21<00:00, 1589.88it/s]"
     ]
    },
    {
     "name": "stdout",
     "output_type": "stream",
     "text": [
      "k = 15, MSE = 0.030969662682564954\n"
     ]
    },
    {
     "name": "stderr",
     "output_type": "stream",
     "text": [
      "\n"
     ]
    }
   ],
   "source": [
    "k = 15\n",
    "model = Model(train_ratings, k)\n",
    "model.fit(movies.copy())\n",
    "mse = model.getMSE(test_ratings)\n",
    "print(f\"k = {k}, MSE = {mse}\")"
   ]
  },
  {
   "cell_type": "code",
   "execution_count": 69,
   "metadata": {},
   "outputs": [
    {
     "name": "stderr",
     "output_type": "stream",
     "text": [
      "100%|██████████| 33833/33833 [00:18<00:00, 1793.59it/s]\n"
     ]
    },
    {
     "name": "stdout",
     "output_type": "stream",
     "text": [
      "k = 1, MSE = 0.03728427686295702\n"
     ]
    },
    {
     "name": "stderr",
     "output_type": "stream",
     "text": [
      "100%|██████████| 33833/33833 [00:18<00:00, 1784.81it/s]\n"
     ]
    },
    {
     "name": "stdout",
     "output_type": "stream",
     "text": [
      "k = 2, MSE = 0.03344227011491843\n"
     ]
    },
    {
     "name": "stderr",
     "output_type": "stream",
     "text": [
      "100%|██████████| 33833/33833 [00:19<00:00, 1748.38it/s]\n"
     ]
    },
    {
     "name": "stdout",
     "output_type": "stream",
     "text": [
      "k = 3, MSE = 0.03210018434009371\n"
     ]
    },
    {
     "name": "stderr",
     "output_type": "stream",
     "text": [
      "100%|██████████| 33833/33833 [00:20<00:00, 1660.99it/s]\n"
     ]
    },
    {
     "name": "stdout",
     "output_type": "stream",
     "text": [
      "k = 4, MSE = 0.031621812180273\n"
     ]
    },
    {
     "name": "stderr",
     "output_type": "stream",
     "text": [
      "100%|██████████| 33833/33833 [00:21<00:00, 1591.66it/s]\n"
     ]
    },
    {
     "name": "stdout",
     "output_type": "stream",
     "text": [
      "k = 5, MSE = 0.0316195936602123\n"
     ]
    },
    {
     "name": "stderr",
     "output_type": "stream",
     "text": [
      "100%|██████████| 33833/33833 [00:20<00:00, 1665.02it/s]\n"
     ]
    },
    {
     "name": "stdout",
     "output_type": "stream",
     "text": [
      "k = 6, MSE = 0.03127343637091704\n"
     ]
    },
    {
     "name": "stderr",
     "output_type": "stream",
     "text": [
      "100%|██████████| 33833/33833 [00:20<00:00, 1646.20it/s]\n"
     ]
    },
    {
     "name": "stdout",
     "output_type": "stream",
     "text": [
      "k = 7, MSE = 0.03132833089762587\n"
     ]
    },
    {
     "name": "stderr",
     "output_type": "stream",
     "text": [
      "100%|██████████| 33833/33833 [00:20<00:00, 1633.67it/s]\n"
     ]
    },
    {
     "name": "stdout",
     "output_type": "stream",
     "text": [
      "k = 8, MSE = 0.031084524418697593\n"
     ]
    },
    {
     "name": "stderr",
     "output_type": "stream",
     "text": [
      "100%|██████████| 33833/33833 [00:20<00:00, 1631.24it/s]\n"
     ]
    },
    {
     "name": "stdout",
     "output_type": "stream",
     "text": [
      "k = 9, MSE = 0.03126492499749952\n"
     ]
    },
    {
     "name": "stderr",
     "output_type": "stream",
     "text": [
      "100%|██████████| 33833/33833 [00:21<00:00, 1543.12it/s]\n"
     ]
    },
    {
     "name": "stdout",
     "output_type": "stream",
     "text": [
      "k = 10, MSE = 0.030864330846628166\n"
     ]
    },
    {
     "name": "stderr",
     "output_type": "stream",
     "text": [
      "100%|██████████| 33833/33833 [00:21<00:00, 1554.19it/s]\n"
     ]
    },
    {
     "name": "stdout",
     "output_type": "stream",
     "text": [
      "k = 11, MSE = 0.030997397364822193\n"
     ]
    },
    {
     "name": "stderr",
     "output_type": "stream",
     "text": [
      "100%|██████████| 33833/33833 [00:22<00:00, 1530.17it/s]\n"
     ]
    },
    {
     "name": "stdout",
     "output_type": "stream",
     "text": [
      "k = 12, MSE = 0.030807344181122066\n"
     ]
    },
    {
     "name": "stderr",
     "output_type": "stream",
     "text": [
      "100%|██████████| 33833/33833 [00:22<00:00, 1485.61it/s]\n"
     ]
    },
    {
     "name": "stdout",
     "output_type": "stream",
     "text": [
      "k = 13, MSE = 0.030938146174349854\n"
     ]
    },
    {
     "name": "stderr",
     "output_type": "stream",
     "text": [
      "100%|██████████| 33833/33833 [00:22<00:00, 1508.47it/s]\n"
     ]
    },
    {
     "name": "stdout",
     "output_type": "stream",
     "text": [
      "k = 14, MSE = 0.03090936001960178\n"
     ]
    },
    {
     "name": "stderr",
     "output_type": "stream",
     "text": [
      "100%|██████████| 33833/33833 [00:21<00:00, 1549.78it/s]\n"
     ]
    },
    {
     "name": "stdout",
     "output_type": "stream",
     "text": [
      "k = 15, MSE = 0.0308086870183\n"
     ]
    },
    {
     "name": "stderr",
     "output_type": "stream",
     "text": [
      "100%|██████████| 33833/33833 [00:21<00:00, 1540.32it/s]\n"
     ]
    },
    {
     "name": "stdout",
     "output_type": "stream",
     "text": [
      "k = 16, MSE = 0.03080300973225181\n"
     ]
    },
    {
     "name": "stderr",
     "output_type": "stream",
     "text": [
      "100%|██████████| 33833/33833 [00:23<00:00, 1449.49it/s]\n"
     ]
    },
    {
     "name": "stdout",
     "output_type": "stream",
     "text": [
      "k = 17, MSE = 0.030960346319887002\n"
     ]
    },
    {
     "name": "stderr",
     "output_type": "stream",
     "text": [
      "100%|██████████| 33833/33833 [00:23<00:00, 1462.43it/s]\n"
     ]
    },
    {
     "name": "stdout",
     "output_type": "stream",
     "text": [
      "k = 18, MSE = 0.03095677575295726\n"
     ]
    },
    {
     "name": "stderr",
     "output_type": "stream",
     "text": [
      "100%|██████████| 33833/33833 [00:22<00:00, 1509.65it/s]\n"
     ]
    },
    {
     "name": "stdout",
     "output_type": "stream",
     "text": [
      "k = 19, MSE = 0.031133619720029624\n"
     ]
    },
    {
     "name": "stderr",
     "output_type": "stream",
     "text": [
      "100%|██████████| 33833/33833 [00:22<00:00, 1479.98it/s]\n"
     ]
    },
    {
     "name": "stdout",
     "output_type": "stream",
     "text": [
      "k = 20, MSE = 0.03096964641543704\n"
     ]
    },
    {
     "name": "stderr",
     "output_type": "stream",
     "text": [
      "100%|██████████| 33833/33833 [00:22<00:00, 1504.33it/s]\n"
     ]
    },
    {
     "name": "stdout",
     "output_type": "stream",
     "text": [
      "k = 21, MSE = 0.03097944045262843\n"
     ]
    },
    {
     "name": "stderr",
     "output_type": "stream",
     "text": [
      "100%|██████████| 33833/33833 [00:23<00:00, 1461.37it/s]\n"
     ]
    },
    {
     "name": "stdout",
     "output_type": "stream",
     "text": [
      "k = 22, MSE = 0.03097231125161115\n"
     ]
    },
    {
     "name": "stderr",
     "output_type": "stream",
     "text": [
      "100%|██████████| 33833/33833 [00:24<00:00, 1407.16it/s]\n"
     ]
    },
    {
     "name": "stdout",
     "output_type": "stream",
     "text": [
      "k = 23, MSE = 0.03112484619647224\n"
     ]
    },
    {
     "name": "stderr",
     "output_type": "stream",
     "text": [
      "100%|██████████| 33833/33833 [00:22<00:00, 1472.97it/s]\n"
     ]
    },
    {
     "name": "stdout",
     "output_type": "stream",
     "text": [
      "k = 24, MSE = 0.030942059173096118\n"
     ]
    },
    {
     "name": "stderr",
     "output_type": "stream",
     "text": [
      "100%|██████████| 33833/33833 [00:23<00:00, 1466.68it/s]\n"
     ]
    },
    {
     "name": "stdout",
     "output_type": "stream",
     "text": [
      "k = 25, MSE = 0.031019495195582704\n"
     ]
    },
    {
     "name": "stderr",
     "output_type": "stream",
     "text": [
      "100%|██████████| 33833/33833 [00:23<00:00, 1457.65it/s]\n"
     ]
    },
    {
     "name": "stdout",
     "output_type": "stream",
     "text": [
      "k = 26, MSE = 0.031157829115940554\n"
     ]
    },
    {
     "name": "stderr",
     "output_type": "stream",
     "text": [
      "100%|██████████| 33833/33833 [00:23<00:00, 1425.74it/s]\n"
     ]
    },
    {
     "name": "stdout",
     "output_type": "stream",
     "text": [
      "k = 27, MSE = 0.03114867835419061\n"
     ]
    },
    {
     "name": "stderr",
     "output_type": "stream",
     "text": [
      "100%|██████████| 33833/33833 [00:23<00:00, 1435.52it/s]\n"
     ]
    },
    {
     "name": "stdout",
     "output_type": "stream",
     "text": [
      "k = 28, MSE = 0.031246691331454426\n"
     ]
    },
    {
     "name": "stderr",
     "output_type": "stream",
     "text": [
      "100%|██████████| 33833/33833 [00:24<00:00, 1377.71it/s]\n"
     ]
    },
    {
     "name": "stdout",
     "output_type": "stream",
     "text": [
      "k = 29, MSE = 0.031153635660055735\n"
     ]
    },
    {
     "name": "stderr",
     "output_type": "stream",
     "text": [
      "100%|██████████| 33833/33833 [00:23<00:00, 1436.56it/s]\n"
     ]
    },
    {
     "name": "stdout",
     "output_type": "stream",
     "text": [
      "k = 30, MSE = 0.031075791325119846\n"
     ]
    },
    {
     "name": "stderr",
     "output_type": "stream",
     "text": [
      "100%|██████████| 33833/33833 [00:23<00:00, 1437.55it/s]\n"
     ]
    },
    {
     "name": "stdout",
     "output_type": "stream",
     "text": [
      "k = 31, MSE = 0.031030138336923935\n"
     ]
    },
    {
     "name": "stderr",
     "output_type": "stream",
     "text": [
      "100%|██████████| 33833/33833 [00:23<00:00, 1421.45it/s]\n"
     ]
    },
    {
     "name": "stdout",
     "output_type": "stream",
     "text": [
      "k = 32, MSE = 0.031088038309425876\n"
     ]
    },
    {
     "name": "stderr",
     "output_type": "stream",
     "text": [
      "100%|██████████| 33833/33833 [00:23<00:00, 1420.97it/s]\n"
     ]
    },
    {
     "name": "stdout",
     "output_type": "stream",
     "text": [
      "k = 33, MSE = 0.031076316134691574\n"
     ]
    },
    {
     "name": "stderr",
     "output_type": "stream",
     "text": [
      "100%|██████████| 33833/33833 [00:24<00:00, 1398.93it/s]\n"
     ]
    },
    {
     "name": "stdout",
     "output_type": "stream",
     "text": [
      "k = 34, MSE = 0.031057930618968603\n"
     ]
    },
    {
     "name": "stderr",
     "output_type": "stream",
     "text": [
      "100%|██████████| 33833/33833 [00:24<00:00, 1382.79it/s]\n"
     ]
    },
    {
     "name": "stdout",
     "output_type": "stream",
     "text": [
      "k = 35, MSE = 0.031133960781449938\n"
     ]
    },
    {
     "name": "stderr",
     "output_type": "stream",
     "text": [
      "100%|██████████| 33833/33833 [00:24<00:00, 1399.31it/s]\n"
     ]
    },
    {
     "name": "stdout",
     "output_type": "stream",
     "text": [
      "k = 36, MSE = 0.031105068103952322\n"
     ]
    },
    {
     "name": "stderr",
     "output_type": "stream",
     "text": [
      "100%|██████████| 33833/33833 [00:25<00:00, 1346.52it/s]\n"
     ]
    },
    {
     "name": "stdout",
     "output_type": "stream",
     "text": [
      "k = 37, MSE = 0.030981220624274986\n"
     ]
    },
    {
     "name": "stderr",
     "output_type": "stream",
     "text": [
      "100%|██████████| 33833/33833 [00:24<00:00, 1384.18it/s]\n"
     ]
    },
    {
     "name": "stdout",
     "output_type": "stream",
     "text": [
      "k = 38, MSE = 0.030972270602322084\n"
     ]
    },
    {
     "name": "stderr",
     "output_type": "stream",
     "text": [
      "100%|██████████| 33833/33833 [00:25<00:00, 1328.77it/s]\n"
     ]
    },
    {
     "name": "stdout",
     "output_type": "stream",
     "text": [
      "k = 39, MSE = 0.031095411363652646\n"
     ]
    },
    {
     "name": "stderr",
     "output_type": "stream",
     "text": [
      "100%|██████████| 33833/33833 [00:24<00:00, 1358.78it/s]\n"
     ]
    },
    {
     "name": "stdout",
     "output_type": "stream",
     "text": [
      "k = 40, MSE = 0.031170265383555034\n"
     ]
    },
    {
     "name": "stderr",
     "output_type": "stream",
     "text": [
      "100%|██████████| 33833/33833 [00:25<00:00, 1307.18it/s]\n"
     ]
    },
    {
     "name": "stdout",
     "output_type": "stream",
     "text": [
      "k = 41, MSE = 0.03125976436913136\n"
     ]
    },
    {
     "name": "stderr",
     "output_type": "stream",
     "text": [
      "100%|██████████| 33833/33833 [00:26<00:00, 1292.21it/s]\n"
     ]
    },
    {
     "name": "stdout",
     "output_type": "stream",
     "text": [
      "k = 42, MSE = 0.031112008405045608\n"
     ]
    },
    {
     "name": "stderr",
     "output_type": "stream",
     "text": [
      "100%|██████████| 33833/33833 [00:25<00:00, 1350.74it/s]\n"
     ]
    },
    {
     "name": "stdout",
     "output_type": "stream",
     "text": [
      "k = 43, MSE = 0.031062609187552985\n"
     ]
    },
    {
     "name": "stderr",
     "output_type": "stream",
     "text": [
      "100%|██████████| 33833/33833 [00:25<00:00, 1323.75it/s]\n"
     ]
    },
    {
     "name": "stdout",
     "output_type": "stream",
     "text": [
      "k = 44, MSE = 0.031151844072876956\n"
     ]
    },
    {
     "name": "stderr",
     "output_type": "stream",
     "text": [
      "100%|██████████| 33833/33833 [00:25<00:00, 1303.12it/s]\n"
     ]
    },
    {
     "name": "stdout",
     "output_type": "stream",
     "text": [
      "k = 45, MSE = 0.03099587595644456\n"
     ]
    },
    {
     "name": "stderr",
     "output_type": "stream",
     "text": [
      "100%|██████████| 33833/33833 [00:25<00:00, 1324.53it/s]\n"
     ]
    },
    {
     "name": "stdout",
     "output_type": "stream",
     "text": [
      "k = 46, MSE = 0.03123261273959191\n"
     ]
    },
    {
     "name": "stderr",
     "output_type": "stream",
     "text": [
      "100%|██████████| 33833/33833 [00:25<00:00, 1344.28it/s]\n"
     ]
    },
    {
     "name": "stdout",
     "output_type": "stream",
     "text": [
      "k = 47, MSE = 0.031119652153118484\n"
     ]
    },
    {
     "name": "stderr",
     "output_type": "stream",
     "text": [
      "100%|██████████| 33833/33833 [00:26<00:00, 1291.97it/s]\n"
     ]
    },
    {
     "name": "stdout",
     "output_type": "stream",
     "text": [
      "k = 48, MSE = 0.03114315220552703\n"
     ]
    },
    {
     "name": "stderr",
     "output_type": "stream",
     "text": [
      "100%|██████████| 33833/33833 [00:26<00:00, 1275.54it/s]"
     ]
    },
    {
     "name": "stdout",
     "output_type": "stream",
     "text": [
      "k = 49, MSE = 0.031008317324399598\n"
     ]
    },
    {
     "name": "stderr",
     "output_type": "stream",
     "text": [
      "\n"
     ]
    }
   ],
   "source": [
    "errors = {}\n",
    "for k in range(1, 50):\n",
    "    model = Model(train_ratings, k)\n",
    "    model.fit(movies.copy())\n",
    "    mse = model.getMSE(test_ratings)\n",
    "    errors[k] = mse\n",
    "    print(f\"k = {k}, MSE = {mse}\")"
   ]
  },
  {
   "cell_type": "code",
   "execution_count": 70,
   "metadata": {},
   "outputs": [
    {
     "data": {
      "text/plain": [
       "[(1, 0.03728427686295702),\n",
       " (2, 0.03344227011491843),\n",
       " (3, 0.03210018434009371),\n",
       " (4, 0.031621812180273),\n",
       " (5, 0.0316195936602123),\n",
       " (6, 0.03127343637091704),\n",
       " (7, 0.03132833089762587),\n",
       " (8, 0.031084524418697593),\n",
       " (9, 0.03126492499749952),\n",
       " (10, 0.030864330846628166),\n",
       " (11, 0.030997397364822193),\n",
       " (12, 0.030807344181122066),\n",
       " (13, 0.030938146174349854),\n",
       " (14, 0.03090936001960178),\n",
       " (15, 0.0308086870183),\n",
       " (16, 0.03080300973225181),\n",
       " (17, 0.030960346319887002),\n",
       " (18, 0.03095677575295726),\n",
       " (19, 0.031133619720029624),\n",
       " (20, 0.03096964641543704),\n",
       " (21, 0.03097944045262843),\n",
       " (22, 0.03097231125161115),\n",
       " (23, 0.03112484619647224),\n",
       " (24, 0.030942059173096118),\n",
       " (25, 0.031019495195582704),\n",
       " (26, 0.031157829115940554),\n",
       " (27, 0.03114867835419061),\n",
       " (28, 0.031246691331454426),\n",
       " (29, 0.031153635660055735),\n",
       " (30, 0.031075791325119846),\n",
       " (31, 0.031030138336923935),\n",
       " (32, 0.031088038309425876),\n",
       " (33, 0.031076316134691574),\n",
       " (34, 0.031057930618968603),\n",
       " (35, 0.031133960781449938),\n",
       " (36, 0.031105068103952322),\n",
       " (37, 0.030981220624274986),\n",
       " (38, 0.030972270602322084),\n",
       " (39, 0.031095411363652646),\n",
       " (40, 0.031170265383555034),\n",
       " (41, 0.03125976436913136),\n",
       " (42, 0.031112008405045608),\n",
       " (43, 0.031062609187552985),\n",
       " (44, 0.031151844072876956),\n",
       " (45, 0.03099587595644456),\n",
       " (46, 0.03123261273959191),\n",
       " (47, 0.031119652153118484),\n",
       " (48, 0.03114315220552703),\n",
       " (49, 0.031008317324399598)]"
      ]
     },
     "execution_count": 70,
     "metadata": {},
     "output_type": "execute_result"
    }
   ],
   "source": [
    "list(errors.items())"
   ]
  },
  {
   "cell_type": "code",
   "execution_count": 71,
   "metadata": {},
   "outputs": [
    {
     "data": {
      "text/plain": [
       "[<matplotlib.lines.Line2D at 0x7d81cbeb7b10>]"
      ]
     },
     "execution_count": 71,
     "metadata": {},
     "output_type": "execute_result"
    },
    {
     "data": {
      "image/png": "[encoded data removed]",
      "text/plain": [
       "<Figure size 640x480 with 1 Axes>"
      ]
     },
     "metadata": {},
     "output_type": "display_data"
    }
   ],
   "source": [
    "import matplotlib.pyplot as plt\n",
    "\n",
    "plt.plot(errors.keys(), errors.values())"
   ]
  },
  {
   "cell_type": "code",
   "execution_count": 72,
   "metadata": {},
   "outputs": [],
   "source": [
    "model.save_users(f\"Clustering{ENV}Users{k}.csv\")"
   ]
  }
 ],
 "metadata": {
  "kernelspec": {
   "display_name": "DataMining",
   "language": "python",
   "name": "python3"
  },
  "language_info": {
   "codemirror_mode": {
    "name": "ipython",
    "version": 3
   },
   "file_extension": ".py",
   "mimetype": "text/x-python",
   "name": "python",
   "nbconvert_exporter": "python",
   "pygments_lexer": "ipython3",
   "version": "3.11.8"
  }
 },
 "nbformat": 4,
 "nbformat_minor": 2
}
