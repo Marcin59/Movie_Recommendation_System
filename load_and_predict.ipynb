{
 "cells": [
  {
   "cell_type": "code",
   "execution_count": 1,
   "metadata": {},
   "outputs": [],
   "source": [
    "import pandas as pd\n",
    "\n",
    "from model import Model"
   ]
  },
  {
   "cell_type": "code",
   "execution_count": 2,
   "metadata": {},
   "outputs": [],
   "source": [
    "ratings = pd.read_csv('data/ratings.csv') # it has to be the ratings that the model was trained on\n",
    "users = pd.read_csv('data/final_clusters.csv') # it has to be the preprocessed users that the model was trained on\n",
    "# both of these files are included in dvc so just pull them from there"
   ]
  },
  {
   "cell_type": "code",
   "execution_count": 3,
   "metadata": {},
   "outputs": [],
   "source": [
    "model = Model(ratings=ratings, users=users)"
   ]
  },
  {
   "cell_type": "code",
   "execution_count": 6,
   "metadata": {},
   "outputs": [
    {
     "name": "stderr",
     "output_type": "stream",
     "text": [
      "100%|██████████| 1000/1000 [00:00<00:00, 1145.57it/s]\n"
     ]
    },
    {
     "data": {
      "text/plain": [
       "0.6418182669612066"
      ]
     },
     "execution_count": 6,
     "metadata": {},
     "output_type": "execute_result"
    }
   ],
   "source": [
    "# replace ratings with\n",
    "# df have to contain columns: userId, movieId, rating\n",
    "example_df = ratings[:1000].copy()\n",
    "model.getMSE(example_df)"
   ]
  },
  {
   "cell_type": "code",
   "execution_count": 7,
   "metadata": {},
   "outputs": [
    {
     "data": {
      "text/plain": [
       "4.546652312109095"
      ]
     },
     "execution_count": 7,
     "metadata": {},
     "output_type": "execute_result"
    }
   ],
   "source": [
    "# you can also use model.predict to get the prediction for a single user and movie\n",
    "model.predict(1, 1) # userId, movieId"
   ]
  }
 ],
 "metadata": {
  "kernelspec": {
   "display_name": "DMmovie",
   "language": "python",
   "name": "python3"
  },
  "language_info": {
   "codemirror_mode": {
    "name": "ipython",
    "version": 3
   },
   "file_extension": ".py",
   "mimetype": "text/x-python",
   "name": "python",
   "nbconvert_exporter": "python",
   "pygments_lexer": "ipython3",
   "version": "3.11.9"
  }
 },
 "nbformat": 4,
 "nbformat_minor": 2
}
