{
 "cells": [
  {
   "cell_type": "code",
   "execution_count": 1,
   "metadata": {},
   "outputs": [],
   "source": [
    "# if it doesn't work, try to install the https://rapids.ai/cudf-pandas/\n",
    "%load_ext cudf.pandas"
   ]
  },
  {
   "cell_type": "code",
   "execution_count": 2,
   "metadata": {},
   "outputs": [],
   "source": [
    "import pandas as pd\n",
    "import numpy as np\n",
    "from sklearn.cluster import KMeans\n",
    "from sklearn.model_selection import train_test_split"
   ]
  },
  {
   "cell_type": "code",
   "execution_count": 3,
   "metadata": {},
   "outputs": [],
   "source": [
    "class Model:\n",
    "    def __init__(self):\n",
    "        self.users: pd.DataFrame\n",
    "        self.movies: pd.DataFrame\n",
    "        self.ratings: pd.DataFrame\n",
    "\n",
    "    def fit(self, movies: pd.DataFrame, ratings: pd.DataFrame):\n",
    "        movies.genres = movies.genres.str.split('|')\n",
    "        self.movies = movies\n",
    "        self.ratings = ratings\n",
    "        selected_genres = self.get_relevant_genres()\n",
    "        self.users = self.get_users(selected_genres)\n",
    "        self.clusterUsers(20)\n",
    "        return self.users\n",
    "    \n",
    "    def get_relevant_genres(self, threshold = 0.04):\n",
    "        genre_count = self.movies['genres'].explode().value_counts().reset_index()\n",
    "        genre_count.columns = ['genre', 'count']\n",
    "        genre_count = genre_count[genre_count[\"count\"] > self.movies.size*threshold]\n",
    "        selected_genres = genre_count['genre'].tolist()\n",
    "        return selected_genres  \n",
    "    \n",
    "    def get_users(self, selected_genres):\n",
    "        users = pd.DataFrame(self.ratings['userId'].unique(), columns=['userId'])\n",
    "        df = pd.merge(self.movies, self.ratings, on='movieId')\n",
    "        for genre in selected_genres:\n",
    "            genre_ratings = df[df['genres'].apply(lambda x: genre in x)]\n",
    "            users[f\"{genre}\"] = users.apply(lambda x: genre_ratings[genre_ratings['userId'] == x['userId']]['rating'].mean(), axis=1)\n",
    "        users = users.fillna(0)\n",
    "        return users\n",
    "    \n",
    "    def clusterUsers(self, k = 50):\n",
    "        kmeans = KMeans(n_clusters=k)\n",
    "        usersCluster = kmeans.fit(self.users.drop('userId', axis=1))\n",
    "        self.users['cluster'] = usersCluster.labels_\n",
    "\n",
    "    def predict(self, userID, movieID):\n",
    "        return self.predictByCLuster(userID, movieID)\n",
    "\n",
    "    def predictByCLuster(self, userID, movieID):\n",
    "        userCluster = self.users[self.users['userId'] == userID]['cluster'].values[0]\n",
    "        usersInCluster = self.users[self.users['cluster'] == userCluster]['userId']\n",
    "        return self.ratings[self.ratings['userId'].isin(usersInCluster)].loc[self.ratings['movieId'] == movieID].rating.mean()\n",
    "    "
   ]
  },
  {
   "cell_type": "code",
   "execution_count": 4,
   "metadata": {},
   "outputs": [],
   "source": [
    "movies = pd.read_csv('./data/movies.csv')\n",
    "ratings = pd.read_csv('./data/ratings.csv')\n",
    "\n",
    "train_ratings, test_ratings = train_test_split(ratings, test_size=0.95)"
   ]
  },
  {
   "cell_type": "code",
   "execution_count": 5,
   "metadata": {},
   "outputs": [],
   "source": [
    "model = Model()\n",
    "model.fit(movies, train_ratings)"
   ]
  },
  {
   "cell_type": "code",
   "execution_count": null,
   "metadata": {},
   "outputs": [
    {
     "data": {
      "text/html": [
       "<div>\n",
       "<style scoped>\n",
       "    .dataframe tbody tr th:only-of-type {\n",
       "        vertical-align: middle;\n",
       "    }\n",
       "\n",
       "    .dataframe tbody tr th {\n",
       "        vertical-align: top;\n",
       "    }\n",
       "\n",
       "    .dataframe thead th {\n",
       "        text-align: right;\n",
       "    }\n",
       "</style>\n",
       "<table border=\"1\" class=\"dataframe\">\n",
       "  <thead>\n",
       "    <tr style=\"text-align: right;\">\n",
       "      <th></th>\n",
       "      <th>userId</th>\n",
       "      <th>movieId</th>\n",
       "      <th>rating</th>\n",
       "      <th>timestamp</th>\n",
       "    </tr>\n",
       "  </thead>\n",
       "  <tbody>\n",
       "    <tr>\n",
       "      <th>16720647</th>\n",
       "      <td>164249</td>\n",
       "      <td>30793</td>\n",
       "      <td>3.0</td>\n",
       "      <td>1270740671</td>\n",
       "    </tr>\n",
       "    <tr>\n",
       "      <th>16015006</th>\n",
       "      <td>157200</td>\n",
       "      <td>6713</td>\n",
       "      <td>3.0</td>\n",
       "      <td>1588718152</td>\n",
       "    </tr>\n",
       "    <tr>\n",
       "      <th>11402879</th>\n",
       "      <td>112278</td>\n",
       "      <td>1729</td>\n",
       "      <td>4.0</td>\n",
       "      <td>1137235396</td>\n",
       "    </tr>\n",
       "    <tr>\n",
       "      <th>870399</th>\n",
       "      <td>8347</td>\n",
       "      <td>466</td>\n",
       "      <td>4.0</td>\n",
       "      <td>846286578</td>\n",
       "    </tr>\n",
       "    <tr>\n",
       "      <th>4441355</th>\n",
       "      <td>43359</td>\n",
       "      <td>345</td>\n",
       "      <td>3.0</td>\n",
       "      <td>845385966</td>\n",
       "    </tr>\n",
       "    <tr>\n",
       "      <th>4330456</th>\n",
       "      <td>42298</td>\n",
       "      <td>1617</td>\n",
       "      <td>4.5</td>\n",
       "      <td>1459091600</td>\n",
       "    </tr>\n",
       "    <tr>\n",
       "      <th>20889042</th>\n",
       "      <td>204007</td>\n",
       "      <td>3911</td>\n",
       "      <td>3.5</td>\n",
       "      <td>1452309807</td>\n",
       "    </tr>\n",
       "    <tr>\n",
       "      <th>22909593</th>\n",
       "      <td>223289</td>\n",
       "      <td>1036</td>\n",
       "      <td>4.0</td>\n",
       "      <td>1043031213</td>\n",
       "    </tr>\n",
       "    <tr>\n",
       "      <th>9523951</th>\n",
       "      <td>93651</td>\n",
       "      <td>7792</td>\n",
       "      <td>3.0</td>\n",
       "      <td>1459158685</td>\n",
       "    </tr>\n",
       "    <tr>\n",
       "      <th>21276733</th>\n",
       "      <td>207671</td>\n",
       "      <td>62</td>\n",
       "      <td>3.5</td>\n",
       "      <td>1180841935</td>\n",
       "    </tr>\n",
       "  </tbody>\n",
       "</table>\n",
       "</div>"
      ],
      "text/plain": [
       "          userId  movieId  rating   timestamp\n",
       "16720647  164249    30793     3.0  1270740671\n",
       "16015006  157200     6713     3.0  1588718152\n",
       "11402879  112278     1729     4.0  1137235396\n",
       "870399      8347      466     4.0   846286578\n",
       "4441355    43359      345     3.0   845385966\n",
       "4330456    42298     1617     4.5  1459091600\n",
       "20889042  204007     3911     3.5  1452309807\n",
       "22909593  223289     1036     4.0  1043031213\n",
       "9523951    93651     7792     3.0  1459158685\n",
       "21276733  207671       62     3.5  1180841935"
      ]
     },
     "execution_count": 5,
     "metadata": {},
     "output_type": "execute_result"
    }
   ],
   "source": [
    "test_ratings.head(10)"
   ]
  },
  {
   "cell_type": "code",
   "execution_count": null,
   "metadata": {},
   "outputs": [
    {
     "name": "stdout",
     "output_type": "stream",
     "text": [
      "2.757751937984496 3.0\n",
      "4.0 3.0\n",
      "4.0 4.0\n",
      "0.6666666666666666 4.0\n",
      "4.01360544217687 3.0\n",
      "3.6322674418604652 4.5\n",
      "3.9824120603015074 3.5\n",
      "3.8566929133858268 4.0\n",
      "3.3636363636363638 3.0\n",
      "3.1435406698564594 3.5\n"
     ]
    }
   ],
   "source": [
    "for row in test_ratings.iloc[:10, :].iterrows():\n",
    "    print(model.predictByCLuster(row[1]['userId'], row[1]['movieId']), row[1]['rating'])"
   ]
  },
  {
   "cell_type": "code",
   "execution_count": null,
   "metadata": {},
   "outputs": [
    {
     "name": "stdout",
     "output_type": "stream",
     "text": [
      "   Movie1\n",
      "0       2\n",
      "1       5\n",
      "   Movie1_1  Movie1_2  Movie1_3  Movie1_4  Movie1_5\n",
      "0     False      True     False     False     False\n",
      "1     False     False     False     False      True\n"
     ]
    }
   ],
   "source": [
    "df1 = pd.DataFrame([2, 5], columns=['Movie1'])\n",
    "df2 = pd.DataFrame(np.array([[False, False], [True, False], [False, False], [False, False], [False, True]]).T, \n",
    "                  columns=['Movie1_1', 'Movie1_2', 'Movie1_3', 'Movie1_4', 'Movie1_5'])\n",
    "print(df1)\n",
    "print(df2)"
   ]
  }
 ],
 "metadata": {
  "kernelspec": {
   "display_name": "DataMining",
   "language": "python",
   "name": "python3"
  },
  "language_info": {
   "codemirror_mode": {
    "name": "ipython",
    "version": 3
   },
   "file_extension": ".py",
   "mimetype": "text/x-python",
   "name": "python",
   "nbconvert_exporter": "python",
   "pygments_lexer": "ipython3",
   "version": "3.11.8"
  }
 },
 "nbformat": 4,
 "nbformat_minor": 2
}
