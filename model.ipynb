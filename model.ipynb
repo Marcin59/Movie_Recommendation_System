{
 "cells": [
  {
   "cell_type": "code",
   "execution_count": 1,
   "metadata": {},
   "outputs": [],
   "source": [
    "import pandas as pd\n",
    "import numpy as np\n",
    "from sklearn.cluster import KMeans\n",
    "from sklearn.model_selection import train_test_split\n",
    "import os.path\n",
    "from sklearn.metrics import mean_squared_error"
   ]
  },
  {
   "cell_type": "code",
   "execution_count": 2,
   "metadata": {},
   "outputs": [],
   "source": [
    "# env : [\"Test\", \"Prod\"]\n",
    "# before testing run prepare_test_data.ipynb notebook\n",
    "env = \"Test\""
   ]
  },
  {
   "cell_type": "code",
   "execution_count": 3,
   "metadata": {},
   "outputs": [],
   "source": [
    "if env == \"Test\":\n",
    "    folder_path = \"./data/test\"\n",
    "else: folder_path = \"./data\"\n",
    "movies = pd.read_csv(f'{folder_path}/movies.csv')\n",
    "ratings = pd.read_csv(f'{folder_path}/ratings.csv')"
   ]
  },
  {
   "cell_type": "code",
   "execution_count": 4,
   "metadata": {},
   "outputs": [],
   "source": [
    "train_ratings, test_ratings = train_test_split(ratings, test_size=0.01, shuffle=True)"
   ]
  },
  {
   "cell_type": "code",
   "execution_count": 5,
   "metadata": {},
   "outputs": [],
   "source": [
    "class Model:\n",
    "    def __init__(self, k = 30):\n",
    "        self.users: pd.DataFrame\n",
    "        self.movies: pd.DataFrame\n",
    "        self.ratings: pd.DataFrame\n",
    "        self.usersFName = f'./data/users{env}.csv'\n",
    "        self.k = k\n",
    "\n",
    "    def fit(self, movies: pd.DataFrame, ratings: pd.DataFrame, update_users = False):\n",
    "        movies.genres = movies.genres.str.split('|')\n",
    "        self.movies = movies\n",
    "        self.ratings = ratings\n",
    "        if not os.path.isfile(self.usersFName) or update_users:\n",
    "            selected_genres = self.get_relevant_genres()\n",
    "            self.users = self.get_users(selected_genres)\n",
    "        else:\n",
    "            self.users = pd.read_csv(self.usersFName)\n",
    "        self.users.to_csv(self.usersFName, index=False)\n",
    "        self.clusterUsers()\n",
    "    \n",
    "    def get_relevant_genres(self, threshold = 0.001):\n",
    "        genre_count = self.movies['genres'].explode().value_counts().reset_index()\n",
    "        genre_count.columns = ['genre', 'count']\n",
    "        genre_count = genre_count[genre_count[\"count\"] > self.movies.size*threshold]\n",
    "        selected_genres = genre_count['genre'].tolist()\n",
    "        return selected_genres  \n",
    "    \n",
    "    def get_users(self, selected_genres):\n",
    "        users = pd.DataFrame(self.ratings['userId'].unique(), columns=['userId'])\n",
    "        df = pd.merge(self.movies, self.ratings, on='movieId')\n",
    "        for genre in selected_genres:\n",
    "            genre_ratings = df[df['genres'].apply(lambda x: genre in x)]\n",
    "            users[f\"{genre}\"] = users.apply(lambda x: genre_ratings[genre_ratings['userId'] == x['userId']]['rating'].mean(), axis=1)\n",
    "        return users\n",
    "    \n",
    "    def clusterUsers(self):\n",
    "        kmeans = KMeans(n_clusters=self.k)\n",
    "        self.users = self.users.fillna(self.users.mean())\n",
    "        usersCluster = kmeans.fit(self.users.drop('userId', axis=1))\n",
    "        self.users['cluster'] = usersCluster.labels_\n",
    "\n",
    "    def predict(self, userID, movieID):\n",
    "        clusterResult = self.predictByCLuster(userID, movieID)\n",
    "        if not np.isnan(clusterResult):\n",
    "            return clusterResult\n",
    "        dummyResult = self.predictByDummy(userID, movieID)\n",
    "        if not np.isnan(dummyResult):\n",
    "            return dummyResult\n",
    "        return self.ratings.rating.mean()\n",
    "    \n",
    "    def predictDummy(self, userID, movieID):\n",
    "        dummyResult = self.predictByDummy(userID, movieID)\n",
    "        if not np.isnan(dummyResult):\n",
    "            return dummyResult\n",
    "        return self.ratings.rating.mean()\n",
    "\n",
    "    def predictByCLuster(self, userID, movieID):\n",
    "        if userID not in self.users['userId'].values:\n",
    "            return np.nan\n",
    "        userCluster = self.users.loc[self.users['userId'] == userID, 'cluster'].values[0]\n",
    "        usersInCluster = self.users.loc[self.users['cluster'] == userCluster, 'userId']\n",
    "        ratings = self.ratings[(self.ratings['movieId'] == movieID) & (self.ratings['userId'].isin(usersInCluster))]\n",
    "        return ratings['rating'].mean()\n",
    "    \n",
    "    def predictByDummy(self, userID, movieID):\n",
    "        return self.ratings.loc[self.ratings['movieId'] == movieID].rating.mean()\n",
    "\n",
    "    def getBaseline(self, test: pd.DataFrame):\n",
    "        test[\"prediction\"] = test.apply(lambda x: self.predictDummy(x[\"userId\"], x[\"movieId\"]), axis=1)\n",
    "        return mean_squared_error(y_true = test.rating, y_pred = test.prediction)\n",
    "\n",
    "    def getMSE(self, test: pd.DataFrame):\n",
    "        test[\"prediction\"] = test.apply(lambda x: self.predict(x[\"userId\"], x[\"movieId\"]), axis=1)\n",
    "        return mean_squared_error(y_true = test.rating, y_pred = test.prediction)"
   ]
  },
  {
   "cell_type": "code",
   "execution_count": 6,
   "metadata": {},
   "outputs": [],
   "source": [
    "model = Model()\n",
    "model.fit(movies.copy(), train_ratings, update_users=True)"
   ]
  },
  {
   "cell_type": "code",
   "execution_count": 7,
   "metadata": {},
   "outputs": [],
   "source": [
    "import warnings\n",
    "warnings.filterwarnings('ignore')"
   ]
  },
  {
   "cell_type": "code",
   "execution_count": 8,
   "metadata": {},
   "outputs": [
    {
     "name": "stdout",
     "output_type": "stream",
     "text": [
      "Baseline MSE:  0.9672877285762063\n",
      "k = 1, MSE = 0.9672877285762063\n",
      "k = 2, MSE = 0.8724634786336792\n",
      "k = 3, MSE = 0.8551478001140462\n",
      "k = 4, MSE = 0.8565559712252793\n",
      "k = 5, MSE = 0.8582999781930115\n",
      "k = 6, MSE = 0.8653358341327657\n"
     ]
    }
   ],
   "source": [
    "model = Model()\n",
    "model.fit(movies.copy(), train_ratings, update_users=False)\n",
    "model.getBaseline(test_ratings)\n",
    "print(\"Baseline MSE: \", model.getBaseline(test_ratings))\n",
    "for k in range(1, 100):\n",
    "    model = Model(k)\n",
    "    model.fit(movies.copy(), train_ratings)\n",
    "    mse = model.getMSE(test_ratings)\n",
    "    print(f\"k = {k}, MSE = {mse}\")\n"
   ]
  },
  {
   "cell_type": "code",
   "execution_count": null,
   "metadata": {},
   "outputs": [],
   "source": [
    "model = Model()\n",
    "model.fit(movies, train_ratings, update_users = True)"
   ]
  },
  {
   "cell_type": "code",
   "execution_count": null,
   "metadata": {},
   "outputs": [
    {
     "data": {
      "text/plain": [
       "0.873226867637611"
      ]
     },
     "execution_count": 302,
     "metadata": {},
     "output_type": "execute_result"
    }
   ],
   "source": [
    "model.getMSE(test_ratings)"
   ]
  },
  {
   "cell_type": "code",
   "execution_count": null,
   "metadata": {},
   "outputs": [
    {
     "name": "stdout",
     "output_type": "stream",
     "text": [
      "   Movie1\n",
      "0       2\n",
      "1       5\n",
      "   Movie1_1  Movie1_2  Movie1_3  Movie1_4  Movie1_5\n",
      "0     False      True     False     False     False\n",
      "1     False     False     False     False      True\n"
     ]
    }
   ],
   "source": [
    "df1 = pd.DataFrame([2, 5], columns=['Movie1'])\n",
    "df2 = pd.DataFrame(np.array([[False, False], [True, False], [False, False], [False, False], [False, True]]).T, \n",
    "                  columns=['Movie1_1', 'Movie1_2', 'Movie1_3', 'Movie1_4', 'Movie1_5'])\n",
    "print(df1)\n",
    "print(df2)"
   ]
  }
 ],
 "metadata": {
  "kernelspec": {
   "display_name": "DataMining",
   "language": "python",
   "name": "python3"
  },
  "language_info": {
   "codemirror_mode": {
    "name": "ipython",
    "version": 3
   },
   "file_extension": ".py",
   "mimetype": "text/x-python",
   "name": "python",
   "nbconvert_exporter": "python",
   "pygments_lexer": "ipython3",
   "version": "3.11.8"
  }
 },
 "nbformat": 4,
 "nbformat_minor": 2
}
